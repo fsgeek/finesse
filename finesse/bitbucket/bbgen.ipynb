{
 "cells": [
  {
   "cell_type": "markdown",
   "metadata": {},
   "source": [
    "# Bitbucket file generator\n",
    "\n",
    "This is a quick script for generating a new skeleton low level FUSE file system:\n",
    "\n",
    "* It reads `fuse_lowlevel.h` and finds the code definition(s)\n",
    "* It generates files with the function prototype name (e.g., \"init.c\")\n",
    "* It generates a stub for the function prototype\n",
    "* It generates a list of the files for inclusion into the meson.build file\n"
   ]
  },
  {
   "cell_type": "code",
   "execution_count": 19,
   "metadata": {},
   "outputs": [
    {
     "output_type": "stream",
     "name": "stdout",
     "text": "void (*init)(void *userdata, struct fuse_conn_info *conn);\nvoid (*destroy)(void *userdata);\nvoid (*lookup)(fuse_req_t req, fuse_ino_t parent, const char *name);\nvoid (*forget)(fuse_req_t req, fuse_ino_t ino, uint64_t nlookup);\nvoid (*getattr)(fuse_req_t req, fuse_ino_t ino, struct fuse_file_info *fi);\nvoid (*setattr)(fuse_req_t req, fuse_ino_t ino, struct stat *attr, int to_set, struct fuse_file_info *fi);\nvoid (*readlink)(fuse_req_t req, fuse_ino_t ino);\nvoid (*mknod)(fuse_req_t req, fuse_ino_t parent, const char *name, mode_t mode, dev_t rdev);\nvoid (*mkdir)(fuse_req_t req, fuse_ino_t parent, const char *name, mode_t mode);\nvoid (*unlink)(fuse_req_t req, fuse_ino_t parent, const char *name);\nvoid (*rmdir)(fuse_req_t req, fuse_ino_t parent, const char *name);\nvoid (*symlink)(fuse_req_t req, const char *link, fuse_ino_t parent, const char *name);\nvoid (*rename)(fuse_req_t req, fuse_ino_t parent, const char *name, fuse_ino_t newparent, const char *newname, unsigned int flags);\nvoid (*link)(fuse_req_t req, fuse_ino_t ino, fuse_ino_t newparent, const char *newname);\nvoid (*open)(fuse_req_t req, fuse_ino_t ino, struct fuse_file_info *fi);\nvoid (*read)(fuse_req_t req, fuse_ino_t ino, size_t size, off_t off, struct fuse_file_info *fi);\nvoid (*write)(fuse_req_t req, fuse_ino_t ino, const char *buf, size_t size, off_t off, struct fuse_file_info *fi);\nvoid (*flush)(fuse_req_t req, fuse_ino_t ino, struct fuse_file_info *fi);\nvoid (*release)(fuse_req_t req, fuse_ino_t ino, struct fuse_file_info *fi);\nvoid (*fsync)(fuse_req_t req, fuse_ino_t ino, int datasync, struct fuse_file_info *fi);\nvoid (*opendir)(fuse_req_t req, fuse_ino_t ino, struct fuse_file_info *fi);\nvoid (*readdir)(fuse_req_t req, fuse_ino_t ino, size_t size, off_t off, struct fuse_file_info *fi);\nvoid (*releasedir)(fuse_req_t req, fuse_ino_t ino, struct fuse_file_info *fi);\nvoid (*fsyncdir)(fuse_req_t req, fuse_ino_t ino, int datasync, struct fuse_file_info *fi);\nvoid (*statfs)(fuse_req_t req, fuse_ino_t ino);\nvoid (*setxattr)(fuse_req_t req, fuse_ino_t ino, const char *name, const char *value, size_t size, int flags);\nvoid (*getxattr)(fuse_req_t req, fuse_ino_t ino, const char *name, size_t size);\nvoid (*listxattr)(fuse_req_t req, fuse_ino_t ino, size_t size);\nvoid (*removexattr)(fuse_req_t req, fuse_ino_t ino, const char *name);\nvoid (*access)(fuse_req_t req, fuse_ino_t ino, int mask);\nvoid (*create)(fuse_req_t req, fuse_ino_t parent, const char *name, mode_t mode, struct fuse_file_info *fi);\nvoid (*getlk)(fuse_req_t req, fuse_ino_t ino, struct fuse_file_info *fi, struct flock *lock);\nvoid (*setlk)(fuse_req_t req, fuse_ino_t ino, struct fuse_file_info *fi, struct flock *lock, int sleep);\nvoid (*bmap)(fuse_req_t req, fuse_ino_t ino, size_t blocksize, uint64_t idx);\nvoid (*ioctl) (fuse_req_t req, fuse_ino_t ino, unsigned int cmd, void *arg, struct fuse_file_info *fi, unsigned flags, const void *in_buf, size_t in_bufsz, size_t out_bufsz);\nvoid (*poll)(fuse_req_t req, fuse_ino_t ino, struct fuse_file_info *fi, struct fuse_pollhandle *ph);\nvoid (*write_buf)(fuse_req_t req, fuse_ino_t ino, struct fuse_bufvec *bufv, off_t off, struct fuse_file_info *fi);\nvoid (*retrieve_reply)(fuse_req_t req, void *cookie, fuse_ino_t ino, off_t offset, struct fuse_bufvec *bufv);\nvoid (*forget_multi)(fuse_req_t req, size_t count, struct fuse_forget_data *forgets);\nvoid (*flock)(fuse_req_t req, fuse_ino_t ino, struct fuse_file_info *fi, int op);\nvoid (*fallocate)(fuse_req_t req, fuse_ino_t ino, int mode, off_t offset, off_t length, struct fuse_file_info *fi);\nvoid (*readdirplus) (fuse_req_t req, fuse_ino_t ino, size_t size, off_t off, struct fuse_file_info *fi);\nvoid (*copy_file_range) (fuse_req_t req, fuse_ino_t ino_in, off_t off_in, struct fuse_file_info *fi_in, fuse_ino_t ino_out, off_t off_out, struct fuse_file_info *fi_out, size_t len, int flags);\nvoid (*lseek) (fuse_req_t req, fuse_ino_t ino, off_t off, int whence, struct fuse_file_info *fi);\n"
    }
   ],
   "source": [
    "fuse_lowlevel_h = \"../../include/fuse_lowlevel.h\"\n",
    "\n",
    "with open(fuse_lowlevel_h, \"rt\") as fd:\n",
    "    fuse_ll_lines = fd.readlines()\n",
    "\n",
    "index = 0\n",
    "functions = {}\n",
    "for l in fuse_ll_lines:\n",
    "    # Step (1): find the start of the operations definition\n",
    "    index = index + 1\n",
    "    if 'struct fuse_lowlevel_ops' in l: break\n",
    "while index < len(fuse_ll_lines):\n",
    "    if 'void (*' in fuse_ll_lines[index]:\n",
    "        func = fuse_ll_lines[index][2+fuse_ll_lines[index].find('('):fuse_ll_lines[index].find(')')]\n",
    "        functions[func] = fuse_ll_lines[index].rstrip()\n",
    "        while True:\n",
    "            if ');' in fuse_ll_lines[index]: break\n",
    "            index = index + 1\n",
    "            functions[func] += fuse_ll_lines[index].rstrip()\n",
    "    if fuse_ll_lines[index].startswith('};'): break\n",
    "    index = index + 1\n",
    "for func in functions:\n",
    "    # functions[func] = functions[func].replace('\\t', '')\n",
    "    functions[func] = ' '.join(functions[func].split())\n",
    "for func in functions:\n",
    "    print(functions[func])"
   ]
  },
  {
   "cell_type": "code",
   "execution_count": 20,
   "metadata": {},
   "outputs": [],
   "source": [
    "for func in functions:\n",
    "    cfunc = functions[func]\n",
    "    proto_start = cfunc.find('(*')\n",
    "    proto_end = cfunc.find(')(')\n",
    "    proto_end_length = 1\n",
    "    if proto_end <= proto_start:\n",
    "        proto_end = cfunc.find(') (')\n",
    "        proto_end_length = 2\n",
    "    assert proto_end > proto_start, '{}: start = {}, end = {}'.format(func, proto_start, proto_end)\n",
    "    statement_end = cfunc.find(';')\n",
    "    nfunc = cfunc[:proto_start] + 'bitbucket_' + cfunc[proto_start + 2: proto_end] + cfunc[proto_end + proto_end_length:statement_end]\n",
    "    nfunc = nfunc + '\\n{\\n\\tassert(0); // Not implemented\\n}\\n'\n",
    "    functions[func] = nfunc\n",
    "\n",
    "# At this point we have prototype wrappers"
   ]
  },
  {
   "cell_type": "code",
   "execution_count": 21,
   "metadata": {},
   "outputs": [
    {
     "output_type": "stream",
     "name": "stdout",
     "text": "/home/mason/projects/finesse/finesse/bitbucket\n"
    }
   ],
   "source": [
    "print(os.getcwd())\n",
    "for func in functions:\n",
    "    with open('{}.c'.format(func), \"wt\") as fd:\n",
    "        fd.write('//\\n// (C) Copyright 2020\\n// Tony Mason\\n// All Rights Reserved\\n\\n')\n",
    "        fd.write('#include \"bitbucket.h\"\\n\\n')\n",
    "        fd.write(functions[func])"
   ]
  },
  {
   "cell_type": "code",
   "execution_count": 22,
   "metadata": {},
   "outputs": [
    {
     "output_type": "stream",
     "name": "stdout",
     "text": "'access.c',\n\t'bmap.c',\n\t'copy_file_range.c',\n\t'create.c',\n\t'destroy.c',\n\t'fallocate.c',\n\t'flock.c',\n\t'flush.c',\n\t'forget.c',\n\t'forget_multi.c',\n\t'fsync.c',\n\t'fsyncdir.c',\n\t'getattr.c',\n\t'getlk.c',\n\t'getxattr.c',\n\t'init.c',\n\t'ioctl.c',\n\t'link.c',\n\t'listxattr.c',\n\t'lookup.c',\n\t'lseek.c',\n\t'mkdir.c',\n\t'mknod.c',\n\t'open.c',\n\t'opendir.c',\n\t'poll.c',\n\t'read.c',\n\t'readdir.c',\n\t'readdirplus.c',\n\t'readlink.c',\n\t'release.c',\n\t'releasedir.c',\n\t'removexattr.c',\n\t'rename.c',\n\t'retrieve_reply.c',\n\t'rmdir.c',\n\t'setattr.c',\n\t'setlk.c',\n\t'setxattr.c',\n\t'statfs.c',\n\t'symlink.c',\n\t'unlink.c',\n\t'write.c',\n\t'write_buf.c',\n"
    }
   ],
   "source": [
    "files = ['{}.c'.format(function) for function in functions]\n",
    "files.sort()\n",
    "for f in files: print(\"\\t'{}',\".format(f))"
   ]
  },
  {
   "cell_type": "code",
   "execution_count": null,
   "metadata": {},
   "outputs": [],
   "source": []
  }
 ],
 "metadata": {
  "language_info": {
   "codemirror_mode": {
    "name": "ipython",
    "version": 3
   },
   "file_extension": ".py",
   "mimetype": "text/x-python",
   "name": "python",
   "nbconvert_exporter": "python",
   "pygments_lexer": "ipython3",
   "version": "3.6.9-final"
  },
  "orig_nbformat": 2,
  "kernelspec": {
   "name": "python36964bitd342ed13afd04e77ab3418a7a630ff6f",
   "display_name": "Python 3.6.9 64-bit"
  }
 },
 "nbformat": 4,
 "nbformat_minor": 2
}