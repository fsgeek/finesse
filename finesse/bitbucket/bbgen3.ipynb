{
 "cells": [
  {
   "cell_type": "markdown",
   "metadata": {},
   "source": [
    "# Generate Call data names...\n",
    "\n",
    "Building on the work I did in bbgen2.ipynb, this time around I'm going to construct a table to map from the call data\n",
    "numeric value to a string name, which I suspect will be beneficial for those trying to interpret the data.\n",
    "\n"
   ]
  },
  {
   "cell_type": "code",
   "execution_count": 1,
   "metadata": {},
   "outputs": [],
   "source": [
    "import os\n",
    "import sys"
   ]
  },
  {
   "cell_type": "code",
   "execution_count": 1,
   "metadata": {
    "tags": []
   },
   "outputs": [],
   "source": [
    "fuse_lowlevel_h = \"../../include/fuse_lowlevel.h\"\n",
    "\n",
    "with open(fuse_lowlevel_h, \"rt\") as fd:\n",
    "    fuse_ll_lines = fd.readlines()\n",
    "\n",
    "index = 0\n",
    "functions = {}\n",
    "for l in fuse_ll_lines:\n",
    "    # Step (1): find the start of the operations definition\n",
    "    index = index + 1\n",
    "    if 'struct fuse_lowlevel_ops' in l: break\n",
    "while index < len(fuse_ll_lines):\n",
    "    if 'void (*' in fuse_ll_lines[index]:\n",
    "        func = fuse_ll_lines[index][2+fuse_ll_lines[index].find('('):fuse_ll_lines[index].find(')')]\n",
    "        functions[func] = fuse_ll_lines[index].rstrip()\n",
    "        while True:\n",
    "            if ');' in fuse_ll_lines[index]: break\n",
    "            index = index + 1\n",
    "            functions[func] += fuse_ll_lines[index].rstrip()\n",
    "    if fuse_ll_lines[index].startswith('};'): break\n",
    "    index = index + 1\n",
    "titles = [x.title() for x in functions]\n",
    "\n",
    "preamble = '''\n",
    "//\n",
    "// (C) Copyright 2020 Tony Mason\n",
    "// All Right Reserved\n",
    "//\n",
    "//\n",
    "\n",
    "#include \"bitbucketcalls.h\"\n",
    "\n",
    "\n",
    "char * const * BitbucketCallDataNames[] = {\n",
    "'''\n",
    "\n",
    "with open('calldata.c', 'wt') as fd:\n",
    "    fd.write(preamble)\n",
    "    for t in titles:\n",
    "        fd.write('\\t\"' + t + '\",\\n')\n",
    "    fd.write('};\\n\\n')"
   ]
  },
  {
   "cell_type": "code",
   "execution_count": null,
   "metadata": {},
   "outputs": [],
   "source": [
    "symbols = []\n",
    "calls = []\n",
    "for func in functions:\n",
    "    cfunc = functions[func]\n",
    "    proto_start = cfunc.find('(*')\n",
    "    proto_end = cfunc.find(')(')\n",
    "    proto_end_length = 1\n",
    "    if proto_end <= proto_start:\n",
    "        proto_end = cfunc.find(') (')\n",
    "        proto_end_length = 2\n",
    "    assert proto_end > proto_start, '{}: start = {}, end = {}'.format(func, proto_start, proto_end)\n",
    "    statement_end = cfunc.find(';')\n",
    "    sym = 'BITBUCKET_CALL_' + cfunc[proto_start + 2: proto_end]\n",
    "    symbols.append(sym.upper())\n",
    "    calls.append(cfunc[proto_start + 2: proto_end])\n",
    "    \n",
    "for sym in symbols:\n",
    "    index = index + 1\n",
    "    sym = '#define ' + sym + ' (BITBUCKET_CALL_BASE + {})'.format(index)\n",
    "    defs.append(sym)"
   ]
  }
 ],
 "metadata": {
  "language_info": {
   "codemirror_mode": {
    "name": "ipython",
    "version": 3
   },
   "file_extension": ".py",
   "mimetype": "text/x-python",
   "name": "python",
   "nbconvert_exporter": "python",
   "pygments_lexer": "ipython3",
   "version": "3.6.9-final"
  },
  "orig_nbformat": 2,
  "kernelspec": {
   "name": "python36964bitd342ed13afd04e77ab3418a7a630ff6f",
   "display_name": "Python 3.6.9 64-bit"
  }
 },
 "nbformat": 4,
 "nbformat_minor": 2
}