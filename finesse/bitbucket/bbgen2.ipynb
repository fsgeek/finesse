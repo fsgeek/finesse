{
 "cells": [
  {
   "cell_type": "markdown",
   "metadata": {},
   "source": [
    "# Generate Tracing Framework\n",
    "\n",
    "This is another script, this time for creating the necessary information for gathering\n",
    "tracing information on a per-call basis.\n",
    "\n",
    "* It reads fuse_lowlevel.h and finds the code definition(s)\n",
    "* It generates a symbolic name for the entry point\n",
    "* It generates a header file and records the entry points\n",
    "\n",
    "It sure would be great if it also added it to the file(s)...\n",
    "\n"
   ]
  },
  {
   "cell_type": "code",
   "execution_count": 1,
   "metadata": {},
   "outputs": [],
   "source": [
    "import os\n",
    "import sys\n"
   ]
  },
  {
   "cell_type": "code",
   "execution_count": 2,
   "metadata": {
    "tags": []
   },
   "outputs": [
    {
     "output_type": "stream",
     "name": "stdout",
     "text": "void (*init)(void *userdata, struct fuse_conn_info *conn);\nvoid (*destroy)(void *userdata);\nvoid (*lookup)(fuse_req_t req, fuse_ino_t parent, const char *name);\nvoid (*forget)(fuse_req_t req, fuse_ino_t ino, uint64_t nlookup);\nvoid (*getattr)(fuse_req_t req, fuse_ino_t ino, struct fuse_file_info *fi);\nvoid (*setattr)(fuse_req_t req, fuse_ino_t ino, struct stat *attr, int to_set, struct fuse_file_info *fi);\nvoid (*readlink)(fuse_req_t req, fuse_ino_t ino);\nvoid (*mknod)(fuse_req_t req, fuse_ino_t parent, const char *name, mode_t mode, dev_t rdev);\nvoid (*mkdir)(fuse_req_t req, fuse_ino_t parent, const char *name, mode_t mode);\nvoid (*unlink)(fuse_req_t req, fuse_ino_t parent, const char *name);\nvoid (*rmdir)(fuse_req_t req, fuse_ino_t parent, const char *name);\nvoid (*symlink)(fuse_req_t req, const char *link, fuse_ino_t parent, const char *name);\nvoid (*rename)(fuse_req_t req, fuse_ino_t parent, const char *name, fuse_ino_t newparent, const char *newname, unsigned int flags);\nvoid (*link)(fuse_req_t req, fuse_ino_t ino, fuse_ino_t newparent, const char *newname);\nvoid (*open)(fuse_req_t req, fuse_ino_t ino, struct fuse_file_info *fi);\nvoid (*read)(fuse_req_t req, fuse_ino_t ino, size_t size, off_t off, struct fuse_file_info *fi);\nvoid (*write)(fuse_req_t req, fuse_ino_t ino, const char *buf, size_t size, off_t off, struct fuse_file_info *fi);\nvoid (*flush)(fuse_req_t req, fuse_ino_t ino, struct fuse_file_info *fi);\nvoid (*release)(fuse_req_t req, fuse_ino_t ino, struct fuse_file_info *fi);\nvoid (*fsync)(fuse_req_t req, fuse_ino_t ino, int datasync, struct fuse_file_info *fi);\nvoid (*opendir)(fuse_req_t req, fuse_ino_t ino, struct fuse_file_info *fi);\nvoid (*readdir)(fuse_req_t req, fuse_ino_t ino, size_t size, off_t off, struct fuse_file_info *fi);\nvoid (*releasedir)(fuse_req_t req, fuse_ino_t ino, struct fuse_file_info *fi);\nvoid (*fsyncdir)(fuse_req_t req, fuse_ino_t ino, int datasync, struct fuse_file_info *fi);\nvoid (*statfs)(fuse_req_t req, fuse_ino_t ino);\nvoid (*setxattr)(fuse_req_t req, fuse_ino_t ino, const char *name, const char *value, size_t size, int flags);\nvoid (*getxattr)(fuse_req_t req, fuse_ino_t ino, const char *name, size_t size);\nvoid (*listxattr)(fuse_req_t req, fuse_ino_t ino, size_t size);\nvoid (*removexattr)(fuse_req_t req, fuse_ino_t ino, const char *name);\nvoid (*access)(fuse_req_t req, fuse_ino_t ino, int mask);\nvoid (*create)(fuse_req_t req, fuse_ino_t parent, const char *name, mode_t mode, struct fuse_file_info *fi);\nvoid (*getlk)(fuse_req_t req, fuse_ino_t ino, struct fuse_file_info *fi, struct flock *lock);\nvoid (*setlk)(fuse_req_t req, fuse_ino_t ino, struct fuse_file_info *fi, struct flock *lock, int sleep);\nvoid (*bmap)(fuse_req_t req, fuse_ino_t ino, size_t blocksize, uint64_t idx);\nvoid (*ioctl) (fuse_req_t req, fuse_ino_t ino, unsigned int cmd, void *arg, struct fuse_file_info *fi, unsigned flags, const void *in_buf, size_t in_bufsz, size_t out_bufsz);\nvoid (*poll)(fuse_req_t req, fuse_ino_t ino, struct fuse_file_info *fi, struct fuse_pollhandle *ph);\nvoid (*write_buf)(fuse_req_t req, fuse_ino_t ino, struct fuse_bufvec *bufv, off_t off, struct fuse_file_info *fi);\nvoid (*retrieve_reply)(fuse_req_t req, void *cookie, fuse_ino_t ino, off_t offset, struct fuse_bufvec *bufv);\nvoid (*forget_multi)(fuse_req_t req, size_t count, struct fuse_forget_data *forgets);\nvoid (*flock)(fuse_req_t req, fuse_ino_t ino, struct fuse_file_info *fi, int op);\nvoid (*fallocate)(fuse_req_t req, fuse_ino_t ino, int mode, off_t offset, off_t length, struct fuse_file_info *fi);\nvoid (*readdirplus) (fuse_req_t req, fuse_ino_t ino, size_t size, off_t off, struct fuse_file_info *fi);\nvoid (*copy_file_range) (fuse_req_t req, fuse_ino_t ino_in, off_t off_in, struct fuse_file_info *fi_in, fuse_ino_t ino_out, off_t off_out, struct fuse_file_info *fi_out, size_t len, int flags);\nvoid (*lseek) (fuse_req_t req, fuse_ino_t ino, off_t off, int whence, struct fuse_file_info *fi);\n"
    }
   ],
   "source": [
    "fuse_lowlevel_h = \"../../include/fuse_lowlevel.h\"\n",
    "\n",
    "with open(fuse_lowlevel_h, \"rt\") as fd:\n",
    "    fuse_ll_lines = fd.readlines()\n",
    "\n",
    "index = 0\n",
    "functions = {}\n",
    "for l in fuse_ll_lines:\n",
    "    # Step (1): find the start of the operations definition\n",
    "    index = index + 1\n",
    "    if 'struct fuse_lowlevel_ops' in l: break\n",
    "while index < len(fuse_ll_lines):\n",
    "    if 'void (*' in fuse_ll_lines[index]:\n",
    "        func = fuse_ll_lines[index][2+fuse_ll_lines[index].find('('):fuse_ll_lines[index].find(')')]\n",
    "        functions[func] = fuse_ll_lines[index].rstrip()\n",
    "        while True:\n",
    "            if ');' in fuse_ll_lines[index]: break\n",
    "            index = index + 1\n",
    "            functions[func] += fuse_ll_lines[index].rstrip()\n",
    "    if fuse_ll_lines[index].startswith('};'): break\n",
    "    index = index + 1\n",
    "for func in functions:\n",
    "    # functions[func] = functions[func].replace('\\t', '')\n",
    "    functions[func] = ' '.join(functions[func].split())\n",
    "for func in functions:\n",
    "    print(functions[func])"
   ]
  },
  {
   "cell_type": "code",
   "execution_count": 51,
   "metadata": {
    "tags": []
   },
   "outputs": [],
   "source": [
    "symbols = []\n",
    "calls = []\n",
    "for func in functions:\n",
    "    cfunc = functions[func]\n",
    "    proto_start = cfunc.find('(*')\n",
    "    proto_end = cfunc.find(')(')\n",
    "    proto_end_length = 1\n",
    "    if proto_end <= proto_start:\n",
    "        proto_end = cfunc.find(') (')\n",
    "        proto_end_length = 2\n",
    "    assert proto_end > proto_start, '{}: start = {}, end = {}'.format(func, proto_start, proto_end)\n",
    "    statement_end = cfunc.find(';')\n",
    "    sym = 'BITBUCKET_CALL_' + cfunc[proto_start + 2: proto_end]\n",
    "    symbols.append(sym.upper())\n",
    "    calls.append(cfunc[proto_start + 2: proto_end])\n",
    "\n",
    "# At this point we have prospective symbols and calls\n",
    "base = 100\n",
    "index = 0\n",
    "defs = [\n",
    "    '//',\n",
    "    '// (C) Copyright 2020 Tony Mason',\n",
    "    '// All Right Reserved',\n",
    "    '//',\n",
    "    '',\n",
    "    '',\n",
    "    '#if !defined(__BITBUCKET_CALLS_H__)',\n",
    "    '#define __BITBUCKET_CALLS_H__ (1)',\n",
    "    '#define BITBUCKET_CALL_BASE ({})'.format(base),\n",
    "    '#include <time.h>',\n",
    "    '#include <stdint.h>',\n",
    "    '#include <assert.h>',\n",
    "    '',\n",
    "    '',\n",
    "]\n",
    "\n",
    "timespec = '''\n",
    "\n",
    "static inline void timespec_diff(struct timespec *begin, struct timespec *end, struct timespec *diff) {\n",
    "    struct timespec result = {.tv_sec = 0, .tv_nsec = 0};\n",
    "    assert((end->tv_sec > begin->tv_sec) || ((end->tv_sec == begin->tv_sec) && end->tv_nsec >= begin->tv_nsec));\n",
    "    result.tv_sec = end->tv_sec - begin->tv_sec;\n",
    "    if (end->tv_nsec < begin->tv_nsec) {\n",
    "        result.tv_sec--;\n",
    "        result.tv_nsec = (long)1000000000 + end->tv_nsec - begin->tv_nsec;\n",
    "    }\n",
    "    *diff = result;\n",
    "}\n",
    "\n",
    "static inline void timespec_add(struct timespec *one, struct timespec *two, struct timespec *result) {\n",
    "    result->tv_sec = one->tv_sec + two->tv_sec;\n",
    "    result->tv_nsec = one->tv_nsec + two->tv_nsec;\n",
    "    while ((long)1000000000 >= result->tv_nsec) {\n",
    "        result->tv_sec++;\n",
    "        result->tv_nsec -= (long)1000000000;\n",
    "    }\n",
    "}\n",
    "\n",
    "'''\n",
    "for sym in symbols:\n",
    "    index = index + 1\n",
    "    sym = '#define ' + sym + ' (BITBUCKET_CALL_BASE + {})'.format(index)\n",
    "    defs.append(sym)\n",
    "defs.append('#define BITBUCKET_CALLS_MAX ({})'.format(base + index))\n",
    "defs.append('')\n",
    "defs.append('')\n",
    "defs.append('')\n",
    "defs.append('typedef struct _bitbucket_call_statistics {')\n",
    "defs.append('\\tuint64_t        Calls;')\n",
    "defs.append('\\tuint64_t        Success;')\n",
    "defs.append('\\tuint64_t        Failure;')\n",
    "defs.append('\\tstruct timespec ElapsedTime;')\n",
    "defs.append('} bitbucket_call_statistics_t;\\n')\n",
    "defs.append('extern bitbucket_call_statistics_t BitbucketCallStatistics[{}];'.format(index))\n",
    "defs.append('\\n')\n",
    "defs.append('')\n",
    "defs.append(timespec)\n",
    "defs.append('')\n",
    "defs.append('static inline void bitbucket_count_call(uint8_t Call, uint8_t Success, struct timespec *Elapsed) {')\n",
    "defs.append('\\tassert((Call > BITBUCKET_CALL_BASE) && (Call < BITBUCKET_CALLS_MAX));')\n",
    "defs.append('\\tassert((0 == Success) || (1 == Success));')\n",
    "defs.append('\\tBitbucketCallStatistics[Call - BITBUCKET_CALL_BASE].Calls++;')\n",
    "defs.append('\\tBitbucketCallStatistics[Call - BITBUCKET_CALL_BASE].Success += Success;')\n",
    "defs.append('\\tBitbucketCallStatistics[Call - BITBUCKET_CALL_BASE].Failure += !Success;')\n",
    "defs.append('\\ttimespec_add(&BitbucketCallStatistics[Call - BITBUCKET_CALL_BASE].ElapsedTime, Elapsed, &BitbucketCallStatistics[Call - BITBUCKET_CALL_BASE].ElapsedTime);')\n",
    "defs.append('}')\n",
    "defs.append('')\n",
    "defs.append('#endif // ____BITBUCKET_CALLS_H__')\n",
    "\n",
    "with open('bitbucketcalls.h', 'wt') as fd:\n",
    "    fd.write('\\n'.join(defs))"
   ]
  },
  {
   "cell_type": "code",
   "execution_count": 52,
   "metadata": {
    "tags": []
   },
   "outputs": [
    {
     "output_type": "stream",
     "name": "stdout",
     "text": "['init', 'lookup', 'forget', 'getattr', 'setattr', 'readlink', 'mknod', 'mkdir', 'unlink', 'rmdir', 'symlink', 'rename', 'link', 'open', 'read', 'write', 'flush', 'release', 'fsync', 'opendir', 'readdir', 'releasedir', 'fsyncdir', 'statfs', 'setxattr', 'getxattr', 'listxattr', 'removexattr', 'access', 'create', 'getlk', 'setlk', 'bmap', 'ioctl', 'poll', 'write_buf', 'retrieve_reply', 'forget_multi', 'flock', 'fallocate', 'readdirplus', 'copy_file_range', 'lseek']\n"
    }
   ],
   "source": [
    "files = []\n",
    "for func in functions:\n",
    "    fname = '{}.c'.format(func)\n",
    "    if os.path.exists(fname): files.append(func)\n",
    "print(files)"
   ]
  },
  {
   "cell_type": "code",
   "execution_count": 57,
   "metadata": {},
   "outputs": [],
   "source": [
    "def generate_wrapper(func, line):\n",
    "    line = line.strip()\n",
    "    params = []\n",
    "    args = line[line.find('(') + 1:line.find(')')].split(',')\n",
    "    for arg in args:\n",
    "        arg = arg.split(' ')[-1]\n",
    "        if '*' == arg[0]: arg = arg[1:]\n",
    "        params.append(arg)\n",
    "    params = ', '.join(params)\n",
    "    wrapper = [\n",
    "        'static int bitbucket_internal_{}'.format(func) + line[line.find('('):] + ';',\n",
    "        '\\n',\n",
    "        line,\n",
    "        '{',\n",
    "        '\\tstruct timespec start, stop, elapsed;',\n",
    "        '\\tint status, tstatus;',\n",
    "        '',\n",
    "        '\\ttstatus = clock_gettime(CLOCK_MONOTONIC_RAW, &start);',\n",
    "        '\\tassert(0 == tstatus);',\n",
    "        '\\tstatus = bitbucket_internal_{}'.format(func) + '({});'.format(params),\n",
    "        '\\ttstatus = clock_gettime(CLOCK_MONOTONIC_RAW, &stop);',\n",
    "        '\\tassert(0 == tstatus);',\n",
    "        '\\ttimespec_diff(&start, &stop, &elapsed);',\n",
    "        '\\tbitbucket_count_call(BITBUCKET_CALL_{}, status ? 0 : 1, &elapsed);'.format(func.upper()),\n",
    "        '}\\n',\n",
    "        ''\n",
    "    ]\n",
    "    line = line.replace('void', 'int', 1)\n",
    "    return (wrapper, line.replace('bitbucket_{}'.format(func), 'bitbucket_internal_{}'.format(func)))"
   ]
  },
  {
   "cell_type": "code",
   "execution_count": 58,
   "metadata": {
    "tags": []
   },
   "outputs": [
    {
     "output_type": "stream",
     "name": "stdout",
     "text": "init\nlookup\nforget\ngetattr\nsetattr\nreadlink\nmknod\nmkdir\nunlink\nrmdir\nsymlink\nrename\nlink\nopen\nread\nwrite\nflush\nrelease\nfsync\nopendir\nreaddir\nreleasedir\nfsyncdir\nstatfs\nsetxattr\ngetxattr\nlistxattr\nremovexattr\naccess\ncreate\ngetlk\nsetlk\nbmap\nioctl\npoll\nwrite_buf\nretrieve_reply\nforget_multi\nflock\nfallocate\nreaddirplus\ncopy_file_range\nlseek\n"
    }
   ],
   "source": [
    "# Now, I'm looking for the bitbucket_xxx function inside these files.\n",
    "\n",
    "for f in files:\n",
    "    with open('{}.c'.format(f), 'rt') as fd:\n",
    "        with open('{}_new.c'.format(f), 'wt') as nfd:\n",
    "            for line in fd.readlines():\n",
    "                if 'bitbucket_{}'.format(f) in line: \n",
    "                    wrapper, line = generate_wrapper(f, line)\n",
    "                    nfd.write('\\n'.join(wrapper))\n",
    "                    line = 'static ' + line + '\\n'\n",
    "                nfd.write(line)\n",
    "                if '#include \"bitbucket.h\"' in line:\n",
    "                    nfd.write('#include \"bitbucketcalls.h\"\\n')\n",
    "    os.rename('{}_new.c'.format(f), '{}.c'.format(f))\n",
    "    print(f)"
   ]
  },
  {
   "cell_type": "code",
   "execution_count": null,
   "metadata": {},
   "outputs": [],
   "source": []
  }
 ],
 "metadata": {
  "language_info": {
   "codemirror_mode": {
    "name": "ipython",
    "version": 3
   },
   "file_extension": ".py",
   "mimetype": "text/x-python",
   "name": "python",
   "nbconvert_exporter": "python",
   "pygments_lexer": "ipython3",
   "version": "3.6.9-final"
  },
  "orig_nbformat": 2,
  "kernelspec": {
   "name": "python36964bitd342ed13afd04e77ab3418a7a630ff6f",
   "display_name": "Python 3.6.9 64-bit"
  }
 },
 "nbformat": 4,
 "nbformat_minor": 2
}